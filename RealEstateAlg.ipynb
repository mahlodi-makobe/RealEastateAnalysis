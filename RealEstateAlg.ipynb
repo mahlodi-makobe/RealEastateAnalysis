{
 "cells": [
  {
   "cell_type": "code",
   "execution_count": null,
   "metadata": {},
   "outputs": [],
   "source": [
    "# Import necessary libraries\n",
    "import pandas as pd\n",
    "import numpy as np\n",
    "import matplotlib.pyplot as plt\n",
    "from sklearn.model_selection import train_test_split\n",
    "from sklearn.linear_model import LinearRegression\n",
    "from sklearn.metrics import mean_squared_error, r2_score\n",
    "\n",
    "# Load the real estate dataset\n",
    "df = pd.read_csv('C:\\\\Users\\\\mahlo\\\\OneDrive\\\\Documents\\\\RealEstateAlgorithm\\\\Real estate.csv')\n",
    "\n",
    "# Handle missing values by filling with mean\n",
    "df = df.fillna(df.mean())\n",
    "\n",
    "# Encode categorical variables using one-hot encoding\n",
    "df = pd.get_dummies(df, columns=['X1 transaction date'])\n",
    "\n",
    "# Feature engineering: Calculate price per square foot\n",
    "df['price_per_sqft'] = df['Y house price of unit area'] / df['X2 house age']\n",
    "\n",
    "# Display basic statistics of the dataset\n",
    "df.describe()\n"
   ]
  },
  {
   "cell_type": "markdown",
   "metadata": {},
   "source": [
    "This code reads the real estate dataset, handles missing values, encodes categorical variables, and performs basic feature engineering."
   ]
  },
  {
   "cell_type": "code",
   "execution_count": null,
   "metadata": {},
   "outputs": [],
   "source": [
    "# Display correlation of features with the target variable\n",
    "df.corr()['Y house price of unit area']\n"
   ]
  },
  {
   "cell_type": "markdown",
   "metadata": {},
   "source": [
    "This code shows the correlation of each feature with the target variable."
   ]
  },
  {
   "cell_type": "code",
   "execution_count": null,
   "metadata": {},
   "outputs": [],
   "source": [
    "# Scatter plot: Price vs Distance to MRT\n",
    "fig, ax = plt.subplots()\n",
    "ax.scatter(df['X3 distance to the nearest MRT station'], df['Y house price of unit area'], c=df['X2 house age'])\n",
    "ax.set_title(\"Price vs Distance to MRT\")\n",
    "plt.savefig('price_vs_distance.png')\n"
   ]
  },
  {
   "cell_type": "markdown",
   "metadata": {},
   "source": [
    "This code creates a scatter plot of house price against the distance to the nearest MRT station, with color indicating house age."
   ]
  },
  {
   "cell_type": "code",
   "execution_count": null,
   "metadata": {},
   "outputs": [],
   "source": [
    "# Code cell with plotting code\n",
    "fig, ax = plt.subplots()\n",
    "ax.scatter(df['X3 distance to the nearest MRT station'], df['Y house price of unit area'], c=df['X2 house age'])\n",
    "ax.set_title(\"Price vs Distance to MRT\")\n",
    "plt.savefig('path/to/price_vs_distance.png')\n",
    "plt.show()\n"
   ]
  },
  {
   "cell_type": "markdown",
   "metadata": {},
   "source": [
    "# Price vs Distance to MRT\n",
    "\n",
    "![Price vs Distance to MRT](path/to/price_vs_distance.png)\n"
   ]
  },
  {
   "cell_type": "code",
   "execution_count": null,
   "metadata": {},
   "outputs": [],
   "source": [
    "# Machine learning model\n",
    "X = df.drop('Y house price of unit area', axis=1)\n",
    "y = df['Y house price of unit area']\n",
    "\n",
    "# Split the data into training and testing sets\n",
    "X_train, X_test, y_train, y_test = train_test_split(X, y, test_size=0.2, random_state=42)\n",
    "\n",
    "# Train a linear regression model\n",
    "model = LinearRegression()\n",
    "model.fit(X_train, y_train)\n",
    "\n",
    "# Make predictions on the test set\n",
    "y_pred = model.predict(X_test)\n",
    "\n",
    "# Evaluate the model\n",
    "mse = mean_squared_error(y_test, y_pred)\n",
    "r2 = r2_score(y_test, y_pred)\n",
    "\n",
    "# Display model evaluation metrics\n",
    "print(f\"MSE: {mse}\")\n",
    "print(f\"R-squared: {r2}\")\n"
   ]
  },
  {
   "cell_type": "markdown",
   "metadata": {},
   "source": [
    "This code sets up a simple linear regression model, trains it on the training data, makes predictions on the test set, and evaluates the model's performance."
   ]
  },
  {
   "cell_type": "code",
   "execution_count": null,
   "metadata": {},
   "outputs": [],
   "source": [
    "# Save the trained model\n",
    "import pickle\n",
    "with open('house_price_model.pkl', 'wb') as file:\n",
    "    pickle.dump(model, file)\n"
   ]
  },
  {
   "cell_type": "markdown",
   "metadata": {},
   "source": [
    "This code saves the trained model using the Pickle module."
   ]
  }
 ],
 "metadata": {
  "language_info": {
   "name": "python"
  }
 },
 "nbformat": 4,
 "nbformat_minor": 2
}
